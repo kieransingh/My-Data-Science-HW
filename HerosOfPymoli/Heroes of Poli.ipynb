{
 "cells": [
  {
   "cell_type": "code",
   "execution_count": 2,
   "metadata": {
    "collapsed": true
   },
   "outputs": [],
   "source": [
    "import matplotlib.pyplot as plt\n",
    "import pandas as pd\n",
    "import numpy as np\n",
    "import os"
   ]
  },
  {
   "cell_type": "code",
   "execution_count": 3,
   "metadata": {
    "collapsed": true
   },
   "outputs": [],
   "source": [
    "purchasing_data = os.path.join('purchase_data.json')\n",
    "purchasing_data2 = os.path.join('purchase_data2.json')"
   ]
  },
  {
   "cell_type": "code",
   "execution_count": 4,
   "metadata": {
    "scrolled": true
   },
   "outputs": [
    {
     "data": {
      "text/html": [
       "<div>\n",
       "<style>\n",
       "    .dataframe thead tr:only-child th {\n",
       "        text-align: right;\n",
       "    }\n",
       "\n",
       "    .dataframe thead th {\n",
       "        text-align: left;\n",
       "    }\n",
       "\n",
       "    .dataframe tbody tr th {\n",
       "        vertical-align: top;\n",
       "    }\n",
       "</style>\n",
       "<table border=\"1\" class=\"dataframe\">\n",
       "  <thead>\n",
       "    <tr style=\"text-align: right;\">\n",
       "      <th></th>\n",
       "      <th>Age</th>\n",
       "      <th>Gender</th>\n",
       "      <th>Item ID</th>\n",
       "      <th>Item Name</th>\n",
       "      <th>Price</th>\n",
       "      <th>SN</th>\n",
       "    </tr>\n",
       "  </thead>\n",
       "  <tbody>\n",
       "    <tr>\n",
       "      <th>0</th>\n",
       "      <td>38</td>\n",
       "      <td>Male</td>\n",
       "      <td>165</td>\n",
       "      <td>Bone Crushing Silver Skewer</td>\n",
       "      <td>3.37</td>\n",
       "      <td>Aelalis34</td>\n",
       "    </tr>\n",
       "    <tr>\n",
       "      <th>1</th>\n",
       "      <td>21</td>\n",
       "      <td>Male</td>\n",
       "      <td>119</td>\n",
       "      <td>Stormbringer, Dark Blade of Ending Misery</td>\n",
       "      <td>2.32</td>\n",
       "      <td>Eolo46</td>\n",
       "    </tr>\n",
       "    <tr>\n",
       "      <th>2</th>\n",
       "      <td>34</td>\n",
       "      <td>Male</td>\n",
       "      <td>174</td>\n",
       "      <td>Primitive Blade</td>\n",
       "      <td>2.46</td>\n",
       "      <td>Assastnya25</td>\n",
       "    </tr>\n",
       "    <tr>\n",
       "      <th>3</th>\n",
       "      <td>21</td>\n",
       "      <td>Male</td>\n",
       "      <td>92</td>\n",
       "      <td>Final Critic</td>\n",
       "      <td>1.36</td>\n",
       "      <td>Pheusrical25</td>\n",
       "    </tr>\n",
       "    <tr>\n",
       "      <th>4</th>\n",
       "      <td>23</td>\n",
       "      <td>Male</td>\n",
       "      <td>63</td>\n",
       "      <td>Stormfury Mace</td>\n",
       "      <td>1.27</td>\n",
       "      <td>Aela59</td>\n",
       "    </tr>\n",
       "  </tbody>\n",
       "</table>\n",
       "</div>"
      ],
      "text/plain": [
       "   Age Gender  Item ID                                  Item Name  Price  \\\n",
       "0   38   Male      165                Bone Crushing Silver Skewer   3.37   \n",
       "1   21   Male      119  Stormbringer, Dark Blade of Ending Misery   2.32   \n",
       "2   34   Male      174                            Primitive Blade   2.46   \n",
       "3   21   Male       92                               Final Critic   1.36   \n",
       "4   23   Male       63                             Stormfury Mace   1.27   \n",
       "\n",
       "             SN  \n",
       "0     Aelalis34  \n",
       "1        Eolo46  \n",
       "2   Assastnya25  \n",
       "3  Pheusrical25  \n",
       "4        Aela59  "
      ]
     },
     "execution_count": 4,
     "metadata": {},
     "output_type": "execute_result"
    }
   ],
   "source": [
    "purchase_df = pd.read_json(purchasing_data)\n",
    "purchase_df2 = pd.read_json(purchasing_data2)\n",
    "purchase_df.head()"
   ]
  },
  {
   "cell_type": "code",
   "execution_count": 5,
   "metadata": {},
   "outputs": [
    {
     "data": {
      "text/html": [
       "<div>\n",
       "<style>\n",
       "    .dataframe thead tr:only-child th {\n",
       "        text-align: right;\n",
       "    }\n",
       "\n",
       "    .dataframe thead th {\n",
       "        text-align: left;\n",
       "    }\n",
       "\n",
       "    .dataframe tbody tr th {\n",
       "        vertical-align: top;\n",
       "    }\n",
       "</style>\n",
       "<table border=\"1\" class=\"dataframe\">\n",
       "  <thead>\n",
       "    <tr style=\"text-align: right;\">\n",
       "      <th></th>\n",
       "      <th>Number of Players</th>\n",
       "    </tr>\n",
       "  </thead>\n",
       "  <tbody>\n",
       "    <tr>\n",
       "      <th>0</th>\n",
       "      <td>573</td>\n",
       "    </tr>\n",
       "  </tbody>\n",
       "</table>\n",
       "</div>"
      ],
      "text/plain": [
       "   Number of Players\n",
       "0                573"
      ]
     },
     "execution_count": 5,
     "metadata": {},
     "output_type": "execute_result"
    }
   ],
   "source": [
    "#find the total number of players\n",
    "total_players=len(purchase_df[\"SN\"].unique())\n",
    "total_players_df = pd.DataFrame({\"Number of Players\":[total_players]})\n",
    "total_players_df"
   ]
  },
  {
   "cell_type": "markdown",
   "metadata": {},
   "source": [
    "#Pricing analysis (Total)"
   ]
  },
  {
   "cell_type": "code",
   "execution_count": 6,
   "metadata": {},
   "outputs": [
    {
     "data": {
      "text/plain": [
       "179"
      ]
     },
     "execution_count": 6,
     "metadata": {},
     "output_type": "execute_result"
    }
   ],
   "source": [
    "#number of unique items\n",
    "items = len(purchase_df[\"Item Name\"].unique())\n",
    "items"
   ]
  },
  {
   "cell_type": "code",
   "execution_count": 7,
   "metadata": {},
   "outputs": [
    {
     "data": {
      "text/plain": [
       "2.93"
      ]
     },
     "execution_count": 7,
     "metadata": {},
     "output_type": "execute_result"
    }
   ],
   "source": [
    "#average purchase price\n",
    "avg_purchase_price = round(purchase_df[\"Price\"].mean(), 2)\n",
    "avg_purchase_price"
   ]
  },
  {
   "cell_type": "code",
   "execution_count": 8,
   "metadata": {},
   "outputs": [
    {
     "data": {
      "text/plain": [
       "780"
      ]
     },
     "execution_count": 8,
     "metadata": {},
     "output_type": "execute_result"
    }
   ],
   "source": [
    "#total number of purchases\n",
    "total_purchases = len(purchase_df)\n",
    "total_purchases"
   ]
  },
  {
   "cell_type": "code",
   "execution_count": 9,
   "metadata": {},
   "outputs": [
    {
     "data": {
      "text/plain": [
       "2285.4"
      ]
     },
     "execution_count": 9,
     "metadata": {},
     "output_type": "execute_result"
    }
   ],
   "source": [
    "#total revnue\n",
    "total_revenue = (total_purchases*avg_purchase_price)\n",
    "total_revenue\n"
   ]
  },
  {
   "cell_type": "code",
   "execution_count": 10,
   "metadata": {},
   "outputs": [
    {
     "data": {
      "text/html": [
       "<div>\n",
       "<style>\n",
       "    .dataframe thead tr:only-child th {\n",
       "        text-align: right;\n",
       "    }\n",
       "\n",
       "    .dataframe thead th {\n",
       "        text-align: left;\n",
       "    }\n",
       "\n",
       "    .dataframe tbody tr th {\n",
       "        vertical-align: top;\n",
       "    }\n",
       "</style>\n",
       "<table border=\"1\" class=\"dataframe\">\n",
       "  <thead>\n",
       "    <tr style=\"text-align: right;\">\n",
       "      <th></th>\n",
       "      <th># of Items</th>\n",
       "      <th>Avgerage Purchase Price</th>\n",
       "      <th>Total Purchases</th>\n",
       "      <th>Total Revenue</th>\n",
       "    </tr>\n",
       "  </thead>\n",
       "  <tbody>\n",
       "    <tr>\n",
       "      <th>0</th>\n",
       "      <td>179</td>\n",
       "      <td>2.93</td>\n",
       "      <td>780</td>\n",
       "      <td>2285.4</td>\n",
       "    </tr>\n",
       "  </tbody>\n",
       "</table>\n",
       "</div>"
      ],
      "text/plain": [
       "   # of Items  Avgerage Purchase Price  Total Purchases  Total Revenue\n",
       "0         179                     2.93              780         2285.4"
      ]
     },
     "execution_count": 10,
     "metadata": {},
     "output_type": "execute_result"
    }
   ],
   "source": [
    "purch_analysis_tot = pd.DataFrame([{\"# of Items\": items,\n",
    "                                  \"Avgerage Purchase Price\": avg_purchase_price,\n",
    "                                  \"Total Purchases\": total_purchases,\n",
    "                                  \"Total Revenue\": total_revenue}])\n",
    "purch_analysis_tot.style.format({'Average Purchase Price': '${:.2f}', 'Total Revenue':''})\n",
    "purch_analysis_tot"
   ]
  },
  {
   "cell_type": "code",
   "execution_count": 11,
   "metadata": {},
   "outputs": [
    {
     "data": {
      "text/html": [
       "<div>\n",
       "<style>\n",
       "    .dataframe thead tr:only-child th {\n",
       "        text-align: right;\n",
       "    }\n",
       "\n",
       "    .dataframe thead th {\n",
       "        text-align: left;\n",
       "    }\n",
       "\n",
       "    .dataframe tbody tr th {\n",
       "        vertical-align: top;\n",
       "    }\n",
       "</style>\n",
       "<table border=\"1\" class=\"dataframe\">\n",
       "  <thead>\n",
       "    <tr style=\"text-align: right;\">\n",
       "      <th></th>\n",
       "    </tr>\n",
       "  </thead>\n",
       "  <tbody>\n",
       "  </tbody>\n",
       "</table>\n",
       "</div>"
      ],
      "text/plain": [
       "Empty DataFrame\n",
       "Columns: []\n",
       "Index: []"
      ]
     },
     "execution_count": 11,
     "metadata": {},
     "output_type": "execute_result"
    }
   ],
   "source": [
    "# Gender Demographics\n",
    "# first need to drop out duplicates in order to get a real gender count\n",
    "\n",
    "dropped = purchase_df.drop_duplicates([\"SN\"])\n",
    "\n",
    "#index must be reset in order to get percent of players in next step\n",
    "\n",
    "gender_counts = dropped[\"Gender\"].value_counts().reset_index()\n",
    "\n",
    "# Percentage and Count of Male Players\n",
    "# Percentage and Count of Female Players\n",
    "# Percentage and Count of Male Players\n",
    "# Percentage and Count of Female Players\n",
    "# Percentage and Count of Other / Non-Disclosed\n",
    "\n",
    "\n",
    "gender_counts[\"% of Players\"] = round((gender_counts['Gender']/total_players)*100, 1)\n",
    "gender_counts = gender_counts.rename(columns={\"index\":\"Gender\", \"Gender\":\"# of Players\"}, inplace=True)\n",
    "gender_counts\n",
    "gender_counts_df =pd.DataFrame(gender_counts)\n",
    "gender_counts_df"
   ]
  },
  {
   "cell_type": "markdown",
   "metadata": {},
   "source": [
    "# Purchasing analysis (Gender)"
   ]
  },
  {
   "cell_type": "code",
   "execution_count": 26,
   "metadata": {},
   "outputs": [
    {
     "name": "stdout",
     "output_type": "stream",
     "text": [
      "Object `` not found.\n"
     ]
    },
    {
     "data": {
      "text/html": [
       "<div>\n",
       "<style>\n",
       "    .dataframe thead tr:only-child th {\n",
       "        text-align: right;\n",
       "    }\n",
       "\n",
       "    .dataframe thead th {\n",
       "        text-align: left;\n",
       "    }\n",
       "\n",
       "    .dataframe tbody tr th {\n",
       "        vertical-align: top;\n",
       "    }\n",
       "</style>\n",
       "<table border=\"1\" class=\"dataframe\">\n",
       "  <thead>\n",
       "    <tr style=\"text-align: right;\">\n",
       "      <th></th>\n",
       "      <th># of Purchases</th>\n",
       "      <th>Total Purchase Value</th>\n",
       "      <th>Average Purchase Price</th>\n",
       "    </tr>\n",
       "    <tr>\n",
       "      <th>Gender</th>\n",
       "      <th></th>\n",
       "      <th></th>\n",
       "      <th></th>\n",
       "    </tr>\n",
       "  </thead>\n",
       "  <tbody>\n",
       "    <tr>\n",
       "      <th>Female</th>\n",
       "      <td>136</td>\n",
       "      <td>382.91</td>\n",
       "      <td>2.82</td>\n",
       "    </tr>\n",
       "    <tr>\n",
       "      <th>Male</th>\n",
       "      <td>633</td>\n",
       "      <td>1867.68</td>\n",
       "      <td>2.95</td>\n",
       "    </tr>\n",
       "    <tr>\n",
       "      <th>Other / Non-Disclosed</th>\n",
       "      <td>11</td>\n",
       "      <td>35.74</td>\n",
       "      <td>3.25</td>\n",
       "    </tr>\n",
       "  </tbody>\n",
       "</table>\n",
       "</div>"
      ],
      "text/plain": [
       "                       # of Purchases  Total Purchase Value  \\\n",
       "Gender                                                        \n",
       "Female                            136                382.91   \n",
       "Male                              633               1867.68   \n",
       "Other / Non-Disclosed              11                 35.74   \n",
       "\n",
       "                       Average Purchase Price  \n",
       "Gender                                         \n",
       "Female                                   2.82  \n",
       "Male                                     2.95  \n",
       "Other / Non-Disclosed                    3.25  "
      ]
     },
     "execution_count": 26,
     "metadata": {},
     "output_type": "execute_result"
    }
   ],
   "source": [
    "# The below each broken by gender\n",
    "# Purchase Count\n",
    "# Average Purchase Price\n",
    "# Total Purchase Value\n",
    "# Normalized Totals\n",
    "\n",
    "purch_count = pd.DataFrame(purchase_df.groupby(\"Gender\")['Gender'].count())\n",
    "purch_count = (purch_count.rename(columns={\"Gender\" : \"# of Purchases\"}))\n",
    "#both variables are grouped by Gender\n",
    "total_purch_gender = pd.DataFrame(purchase_df.groupby(\"Gender\")['Price'].sum())\n",
    "total_purch_gender = total_purch_gender.rename(columns={'Price':'Total Purchase Value'})\n",
    "\n",
    "gender_total_analysis = pd.merge(purch_count, total_purch_gender, left_index = True, right_index=True)\n",
    "gender_total_analysis[\"Average Purchase Price\"] = round(gender_total_analysis['Total Purchase Value']/gender_total_analysis['# of Purchases'],2)\n",
    "\n",
    "#normalized totals = Total Purchase Value/# of players in respective gender. Normalized total shows average spent\n",
    "#spread across total number of players rather than over quantity of transactions\n",
    "??????????????????\n",
    "#gender_total_analysis[\"Normalized Totals\"] = round((gender_total_analysis[\"Total Purchase Value\"]/gender_counts[\"# of Players\"]), 2)\n",
    "\n",
    "gender_total_analysis"
   ]
  },
  {
   "cell_type": "markdown",
   "metadata": {},
   "source": [
    "Age Demographics"
   ]
  },
  {
   "cell_type": "code",
   "execution_count": 13,
   "metadata": {},
   "outputs": [
    {
     "data": {
      "text/html": [
       "<style  type=\"text/css\" >\n",
       "</style>  \n",
       "<table id=\"T_bc909476_1107_11e8_9fe6_f200c432c501\" > \n",
       "<thead>    <tr> \n",
       "        <th class=\"blank level0\" ></th> \n",
       "        <th class=\"col_heading level0 col0\" >Purchase Count</th> \n",
       "        <th class=\"col_heading level0 col1\" >Total Purchase Value</th> \n",
       "        <th class=\"col_heading level0 col2\" >Avg. Purchase Price</th> \n",
       "    </tr>    <tr> \n",
       "        <th class=\"index_name level0\" >Age Demographics</th> \n",
       "        <th class=\"blank\" ></th> \n",
       "        <th class=\"blank\" ></th> \n",
       "        <th class=\"blank\" ></th> \n",
       "    </tr></thead> \n",
       "<tbody>    <tr> \n",
       "        <th id=\"T_bc909476_1107_11e8_9fe6_f200c432c501level0_row0\" class=\"row_heading level0 row0\" ><10</th> \n",
       "        <td id=\"T_bc909476_1107_11e8_9fe6_f200c432c501row0_col0\" class=\"data row0 col0\" >28</td> \n",
       "        <td id=\"T_bc909476_1107_11e8_9fe6_f200c432c501row0_col1\" class=\"data row0 col1\" >83.46</td> \n",
       "        <td id=\"T_bc909476_1107_11e8_9fe6_f200c432c501row0_col2\" class=\"data row0 col2\" >2.98</td> \n",
       "    </tr>    <tr> \n",
       "        <th id=\"T_bc909476_1107_11e8_9fe6_f200c432c501level0_row1\" class=\"row_heading level0 row1\" >10-15</th> \n",
       "        <td id=\"T_bc909476_1107_11e8_9fe6_f200c432c501row1_col0\" class=\"data row1 col0\" >82</td> \n",
       "        <td id=\"T_bc909476_1107_11e8_9fe6_f200c432c501row1_col1\" class=\"data row1 col1\" >237.31</td> \n",
       "        <td id=\"T_bc909476_1107_11e8_9fe6_f200c432c501row1_col2\" class=\"data row1 col2\" >2.89</td> \n",
       "    </tr>    <tr> \n",
       "        <th id=\"T_bc909476_1107_11e8_9fe6_f200c432c501level0_row2\" class=\"row_heading level0 row2\" >16-20</th> \n",
       "        <td id=\"T_bc909476_1107_11e8_9fe6_f200c432c501row2_col0\" class=\"data row2 col0\" >184</td> \n",
       "        <td id=\"T_bc909476_1107_11e8_9fe6_f200c432c501row2_col1\" class=\"data row2 col1\" >528.74</td> \n",
       "        <td id=\"T_bc909476_1107_11e8_9fe6_f200c432c501row2_col2\" class=\"data row2 col2\" >2.87</td> \n",
       "    </tr>    <tr> \n",
       "        <th id=\"T_bc909476_1107_11e8_9fe6_f200c432c501level0_row3\" class=\"row_heading level0 row3\" >21-25</th> \n",
       "        <td id=\"T_bc909476_1107_11e8_9fe6_f200c432c501row3_col0\" class=\"data row3 col0\" >305</td> \n",
       "        <td id=\"T_bc909476_1107_11e8_9fe6_f200c432c501row3_col1\" class=\"data row3 col1\" >902.61</td> \n",
       "        <td id=\"T_bc909476_1107_11e8_9fe6_f200c432c501row3_col2\" class=\"data row3 col2\" >2.96</td> \n",
       "    </tr>    <tr> \n",
       "        <th id=\"T_bc909476_1107_11e8_9fe6_f200c432c501level0_row4\" class=\"row_heading level0 row4\" >26-32</th> \n",
       "        <td id=\"T_bc909476_1107_11e8_9fe6_f200c432c501row4_col0\" class=\"data row4 col0\" >103</td> \n",
       "        <td id=\"T_bc909476_1107_11e8_9fe6_f200c432c501row4_col1\" class=\"data row4 col1\" >304.94</td> \n",
       "        <td id=\"T_bc909476_1107_11e8_9fe6_f200c432c501row4_col2\" class=\"data row4 col2\" >2.96</td> \n",
       "    </tr>    <tr> \n",
       "        <th id=\"T_bc909476_1107_11e8_9fe6_f200c432c501level0_row5\" class=\"row_heading level0 row5\" >33-45</th> \n",
       "        <td id=\"T_bc909476_1107_11e8_9fe6_f200c432c501row5_col0\" class=\"data row5 col0\" >78</td> \n",
       "        <td id=\"T_bc909476_1107_11e8_9fe6_f200c432c501row5_col1\" class=\"data row5 col1\" >229.27</td> \n",
       "        <td id=\"T_bc909476_1107_11e8_9fe6_f200c432c501row5_col2\" class=\"data row5 col2\" >2.94</td> \n",
       "    </tr>    <tr> \n",
       "        <th id=\"T_bc909476_1107_11e8_9fe6_f200c432c501level0_row6\" class=\"row_heading level0 row6\" >45></th> \n",
       "        <td id=\"T_bc909476_1107_11e8_9fe6_f200c432c501row6_col0\" class=\"data row6 col0\" >0</td> \n",
       "        <td id=\"T_bc909476_1107_11e8_9fe6_f200c432c501row6_col1\" class=\"data row6 col1\" >No Data</td> \n",
       "        <td id=\"T_bc909476_1107_11e8_9fe6_f200c432c501row6_col2\" class=\"data row6 col2\" >No Data</td> \n",
       "    </tr></tbody> \n",
       "</table> "
      ],
      "text/plain": [
       "<pandas.io.formats.style.Styler at 0x115f8dc88>"
      ]
     },
     "execution_count": 13,
     "metadata": {},
     "output_type": "execute_result"
    }
   ],
   "source": [
    "age_bins = [0,9,15,20,25,32,45,100]\n",
    "bin_labels = ['<10', '10-15', '16-20', '21-25', '26-32', '33-45', '45>']\n",
    "purchase_df[\"Age Demographics\"] = pd.cut(purchase_df[\"Age\"], age_bins, labels=bin_labels)\n",
    "demographic_group = purchase_df.groupby(\"Age Demographics\")\n",
    "dem_group_df = pd.DataFrame(demographic_group[\"Age\"].count())\n",
    "dem_group_count = dem_group_df.rename(columns={\"Age\":'Number of People'})\n",
    "dem_total_value = round(demographic_group[\"Price\"].sum(), 2)\n",
    "dem_avg_purch = round(demographic_group[\"Price\"].mean(), 2)\n",
    "\n",
    "\n",
    "dem_group_count_df = pd.DataFrame(dem_group_count)\n",
    "dem_total_df = pd.DataFrame(dem_total_value)\n",
    "dem_avg_purch_df = pd.DataFrame(dem_avg_purch)\n",
    "dem_avg_purch_df = dem_avg_purch_df.rename(columns={\"Price\":'Avg. Purchase Price'})\n",
    "dem_total_df = dem_total_df.rename(columns={\"Price\":'Total Purchase Value'})\n",
    "combined_df = pd.merge(dem_group_count_df, dem_total_df, left_index=True, right_index=True)\n",
    "combined_df = pd.merge(combined_df, dem_avg_purch_df, left_index=True, right_index=True)\n",
    "combined_df = combined_df.rename(columns={\"Number of People\":'Purchase Count'})\n",
    "combined_df = combined_df.fillna(\"No Data\")\n",
    "combined_df = combined_df.style.format({' Total Purchase Value': '${:.2f}', 'Avg. Purchase price': '${:.2F}'})\n",
    "combined_df"
   ]
  },
  {
   "cell_type": "markdown",
   "metadata": {},
   "source": [
    "Top Spenders\n"
   ]
  },
  {
   "cell_type": "code",
   "execution_count": 14,
   "metadata": {},
   "outputs": [
    {
     "data": {
      "text/html": [
       "<div>\n",
       "<style>\n",
       "    .dataframe thead tr:only-child th {\n",
       "        text-align: right;\n",
       "    }\n",
       "\n",
       "    .dataframe thead th {\n",
       "        text-align: left;\n",
       "    }\n",
       "\n",
       "    .dataframe tbody tr th {\n",
       "        vertical-align: top;\n",
       "    }\n",
       "</style>\n",
       "<table border=\"1\" class=\"dataframe\">\n",
       "  <thead>\n",
       "    <tr style=\"text-align: right;\">\n",
       "      <th></th>\n",
       "      <th>Age</th>\n",
       "      <th>Gender</th>\n",
       "      <th>Item ID</th>\n",
       "      <th>Item Name</th>\n",
       "      <th>Price</th>\n",
       "      <th>SN</th>\n",
       "      <th>Age Demographics</th>\n",
       "    </tr>\n",
       "  </thead>\n",
       "  <tbody>\n",
       "    <tr>\n",
       "      <th>0</th>\n",
       "      <td>38</td>\n",
       "      <td>Male</td>\n",
       "      <td>165</td>\n",
       "      <td>Bone Crushing Silver Skewer</td>\n",
       "      <td>3.37</td>\n",
       "      <td>Aelalis34</td>\n",
       "      <td>33-45</td>\n",
       "    </tr>\n",
       "    <tr>\n",
       "      <th>1</th>\n",
       "      <td>21</td>\n",
       "      <td>Male</td>\n",
       "      <td>119</td>\n",
       "      <td>Stormbringer, Dark Blade of Ending Misery</td>\n",
       "      <td>2.32</td>\n",
       "      <td>Eolo46</td>\n",
       "      <td>21-25</td>\n",
       "    </tr>\n",
       "    <tr>\n",
       "      <th>2</th>\n",
       "      <td>34</td>\n",
       "      <td>Male</td>\n",
       "      <td>174</td>\n",
       "      <td>Primitive Blade</td>\n",
       "      <td>2.46</td>\n",
       "      <td>Assastnya25</td>\n",
       "      <td>33-45</td>\n",
       "    </tr>\n",
       "    <tr>\n",
       "      <th>3</th>\n",
       "      <td>21</td>\n",
       "      <td>Male</td>\n",
       "      <td>92</td>\n",
       "      <td>Final Critic</td>\n",
       "      <td>1.36</td>\n",
       "      <td>Pheusrical25</td>\n",
       "      <td>21-25</td>\n",
       "    </tr>\n",
       "    <tr>\n",
       "      <th>4</th>\n",
       "      <td>23</td>\n",
       "      <td>Male</td>\n",
       "      <td>63</td>\n",
       "      <td>Stormfury Mace</td>\n",
       "      <td>1.27</td>\n",
       "      <td>Aela59</td>\n",
       "      <td>21-25</td>\n",
       "    </tr>\n",
       "  </tbody>\n",
       "</table>\n",
       "</div>"
      ],
      "text/plain": [
       "   Age Gender  Item ID                                  Item Name  Price  \\\n",
       "0   38   Male      165                Bone Crushing Silver Skewer   3.37   \n",
       "1   21   Male      119  Stormbringer, Dark Blade of Ending Misery   2.32   \n",
       "2   34   Male      174                            Primitive Blade   2.46   \n",
       "3   21   Male       92                               Final Critic   1.36   \n",
       "4   23   Male       63                             Stormfury Mace   1.27   \n",
       "\n",
       "             SN Age Demographics  \n",
       "0     Aelalis34            33-45  \n",
       "1        Eolo46            21-25  \n",
       "2   Assastnya25            33-45  \n",
       "3  Pheusrical25            21-25  \n",
       "4        Aela59            21-25  "
      ]
     },
     "execution_count": 14,
     "metadata": {},
     "output_type": "execute_result"
    }
   ],
   "source": [
    "purchase_df.head()"
   ]
  },
  {
   "cell_type": "code",
   "execution_count": 58,
   "metadata": {},
   "outputs": [
    {
     "data": {
      "text/html": [
       "<style  type=\"text/css\" >\n",
       "</style>  \n",
       "<table id=\"T_943a45fe_110b_11e8_8ae2_f200c432c501\" > \n",
       "<thead>    <tr> \n",
       "        <th class=\"blank level0\" ></th> \n",
       "        <th class=\"col_heading level0 col0\" >Total Purchase Value</th> \n",
       "        <th class=\"col_heading level0 col1\" >Quantity of Purchases</th> \n",
       "        <th class=\"col_heading level0 col2\" >Avgerage Purchase Price</th> \n",
       "    </tr>    <tr> \n",
       "        <th class=\"index_name level0\" >SN</th> \n",
       "        <th class=\"blank\" ></th> \n",
       "        <th class=\"blank\" ></th> \n",
       "        <th class=\"blank\" ></th> \n",
       "    </tr></thead> \n",
       "<tbody>    <tr> \n",
       "        <th id=\"T_943a45fe_110b_11e8_8ae2_f200c432c501level0_row0\" class=\"row_heading level0 row0\" >Undirrala66</th> \n",
       "        <td id=\"T_943a45fe_110b_11e8_8ae2_f200c432c501row0_col0\" class=\"data row0 col0\" >$17.06</td> \n",
       "        <td id=\"T_943a45fe_110b_11e8_8ae2_f200c432c501row0_col1\" class=\"data row0 col1\" >5</td> \n",
       "        <td id=\"T_943a45fe_110b_11e8_8ae2_f200c432c501row0_col2\" class=\"data row0 col2\" >3.412</td> \n",
       "    </tr>    <tr> \n",
       "        <th id=\"T_943a45fe_110b_11e8_8ae2_f200c432c501level0_row1\" class=\"row_heading level0 row1\" >Saedue76</th> \n",
       "        <td id=\"T_943a45fe_110b_11e8_8ae2_f200c432c501row1_col0\" class=\"data row1 col0\" >$13.56</td> \n",
       "        <td id=\"T_943a45fe_110b_11e8_8ae2_f200c432c501row1_col1\" class=\"data row1 col1\" >4</td> \n",
       "        <td id=\"T_943a45fe_110b_11e8_8ae2_f200c432c501row1_col2\" class=\"data row1 col2\" >3.39</td> \n",
       "    </tr>    <tr> \n",
       "        <th id=\"T_943a45fe_110b_11e8_8ae2_f200c432c501level0_row2\" class=\"row_heading level0 row2\" >Mindimnya67</th> \n",
       "        <td id=\"T_943a45fe_110b_11e8_8ae2_f200c432c501row2_col0\" class=\"data row2 col0\" >$12.74</td> \n",
       "        <td id=\"T_943a45fe_110b_11e8_8ae2_f200c432c501row2_col1\" class=\"data row2 col1\" >4</td> \n",
       "        <td id=\"T_943a45fe_110b_11e8_8ae2_f200c432c501row2_col2\" class=\"data row2 col2\" >3.185</td> \n",
       "    </tr>    <tr> \n",
       "        <th id=\"T_943a45fe_110b_11e8_8ae2_f200c432c501level0_row3\" class=\"row_heading level0 row3\" >Haellysu29</th> \n",
       "        <td id=\"T_943a45fe_110b_11e8_8ae2_f200c432c501row3_col0\" class=\"data row3 col0\" >$12.73</td> \n",
       "        <td id=\"T_943a45fe_110b_11e8_8ae2_f200c432c501row3_col1\" class=\"data row3 col1\" >3</td> \n",
       "        <td id=\"T_943a45fe_110b_11e8_8ae2_f200c432c501row3_col2\" class=\"data row3 col2\" >4.24333</td> \n",
       "    </tr>    <tr> \n",
       "        <th id=\"T_943a45fe_110b_11e8_8ae2_f200c432c501level0_row4\" class=\"row_heading level0 row4\" >Eoda93</th> \n",
       "        <td id=\"T_943a45fe_110b_11e8_8ae2_f200c432c501row4_col0\" class=\"data row4 col0\" >$11.58</td> \n",
       "        <td id=\"T_943a45fe_110b_11e8_8ae2_f200c432c501row4_col1\" class=\"data row4 col1\" >3</td> \n",
       "        <td id=\"T_943a45fe_110b_11e8_8ae2_f200c432c501row4_col2\" class=\"data row4 col2\" >3.86</td> \n",
       "    </tr></tbody> \n",
       "</table> "
      ],
      "text/plain": [
       "<pandas.io.formats.style.Styler at 0x115f9df98>"
      ]
     },
     "execution_count": 58,
     "metadata": {},
     "output_type": "execute_result"
    }
   ],
   "source": [
    "purch_amount_by_SN = pd.DataFrame(purchase_df.groupby('SN')['Price'].sum())\n",
    "num_purch_by_SN = pd.DataFrame(purchase_df.groupby('SN')['Price'].count())\n",
    "avg_by_SN = pd.DataFrame(purchase_df.groupby('SN')['Price'].mean())\n",
    "top_5_spenders = pd.merge(purch_amount_by_SN, num_purch_by_SN, left_index = True, right_index=True).merge(avg_by_SN, left_index=True, right_index=True)\n",
    "top_5_spenders = top_5_spenders.rename(columns={'Price_x':'Total Purchase Value', 'Price_y':'Quantity of Purchases', 'Price':'Avgerage Purchase Price'})\n",
    "top_5_spenders.sort_values('Total Purchase Value', ascending=False, inplace=True )\n",
    "top_5_spenders = top_5_spenders.head()\n",
    "top_5_spenders = top_5_spenders.style.format({'Total Purchase Value': '${:.2f}', 'Average Purchase Price': '${:.2f}'})\n",
    "top_5_spenders "
   ]
  },
  {
   "cell_type": "markdown",
   "metadata": {},
   "source": [
    "Most Popular Items"
   ]
  },
  {
   "cell_type": "code",
   "execution_count": 16,
   "metadata": {},
   "outputs": [
    {
     "data": {
      "text/html": [
       "<div>\n",
       "<style>\n",
       "    .dataframe thead tr:only-child th {\n",
       "        text-align: right;\n",
       "    }\n",
       "\n",
       "    .dataframe thead th {\n",
       "        text-align: left;\n",
       "    }\n",
       "\n",
       "    .dataframe tbody tr th {\n",
       "        vertical-align: top;\n",
       "    }\n",
       "</style>\n",
       "<table border=\"1\" class=\"dataframe\">\n",
       "  <thead>\n",
       "    <tr style=\"text-align: right;\">\n",
       "      <th></th>\n",
       "      <th>Age</th>\n",
       "      <th>Gender</th>\n",
       "      <th>Item ID</th>\n",
       "      <th>Item Name</th>\n",
       "      <th>Price</th>\n",
       "      <th>SN</th>\n",
       "      <th>Age Demographics</th>\n",
       "    </tr>\n",
       "  </thead>\n",
       "  <tbody>\n",
       "    <tr>\n",
       "      <th>0</th>\n",
       "      <td>38</td>\n",
       "      <td>Male</td>\n",
       "      <td>165</td>\n",
       "      <td>Bone Crushing Silver Skewer</td>\n",
       "      <td>3.37</td>\n",
       "      <td>Aelalis34</td>\n",
       "      <td>33-45</td>\n",
       "    </tr>\n",
       "    <tr>\n",
       "      <th>1</th>\n",
       "      <td>21</td>\n",
       "      <td>Male</td>\n",
       "      <td>119</td>\n",
       "      <td>Stormbringer, Dark Blade of Ending Misery</td>\n",
       "      <td>2.32</td>\n",
       "      <td>Eolo46</td>\n",
       "      <td>21-25</td>\n",
       "    </tr>\n",
       "    <tr>\n",
       "      <th>2</th>\n",
       "      <td>34</td>\n",
       "      <td>Male</td>\n",
       "      <td>174</td>\n",
       "      <td>Primitive Blade</td>\n",
       "      <td>2.46</td>\n",
       "      <td>Assastnya25</td>\n",
       "      <td>33-45</td>\n",
       "    </tr>\n",
       "    <tr>\n",
       "      <th>3</th>\n",
       "      <td>21</td>\n",
       "      <td>Male</td>\n",
       "      <td>92</td>\n",
       "      <td>Final Critic</td>\n",
       "      <td>1.36</td>\n",
       "      <td>Pheusrical25</td>\n",
       "      <td>21-25</td>\n",
       "    </tr>\n",
       "    <tr>\n",
       "      <th>4</th>\n",
       "      <td>23</td>\n",
       "      <td>Male</td>\n",
       "      <td>63</td>\n",
       "      <td>Stormfury Mace</td>\n",
       "      <td>1.27</td>\n",
       "      <td>Aela59</td>\n",
       "      <td>21-25</td>\n",
       "    </tr>\n",
       "  </tbody>\n",
       "</table>\n",
       "</div>"
      ],
      "text/plain": [
       "   Age Gender  Item ID                                  Item Name  Price  \\\n",
       "0   38   Male      165                Bone Crushing Silver Skewer   3.37   \n",
       "1   21   Male      119  Stormbringer, Dark Blade of Ending Misery   2.32   \n",
       "2   34   Male      174                            Primitive Blade   2.46   \n",
       "3   21   Male       92                               Final Critic   1.36   \n",
       "4   23   Male       63                             Stormfury Mace   1.27   \n",
       "\n",
       "             SN Age Demographics  \n",
       "0     Aelalis34            33-45  \n",
       "1        Eolo46            21-25  \n",
       "2   Assastnya25            33-45  \n",
       "3  Pheusrical25            21-25  \n",
       "4        Aela59            21-25  "
      ]
     },
     "execution_count": 16,
     "metadata": {},
     "output_type": "execute_result"
    }
   ],
   "source": [
    "purchase_df.head()"
   ]
  },
  {
   "cell_type": "code",
   "execution_count": 17,
   "metadata": {},
   "outputs": [
    {
     "data": {
      "text/html": [
       "<div>\n",
       "<style>\n",
       "    .dataframe thead tr:only-child th {\n",
       "        text-align: right;\n",
       "    }\n",
       "\n",
       "    .dataframe thead th {\n",
       "        text-align: left;\n",
       "    }\n",
       "\n",
       "    .dataframe tbody tr th {\n",
       "        vertical-align: top;\n",
       "    }\n",
       "</style>\n",
       "<table border=\"1\" class=\"dataframe\">\n",
       "  <thead>\n",
       "    <tr style=\"text-align: right;\">\n",
       "      <th></th>\n",
       "      <th>Item ID</th>\n",
       "      <th>Item Name</th>\n",
       "      <th>Quantity Sold</th>\n",
       "      <th>Revenue</th>\n",
       "      <th>Price</th>\n",
       "    </tr>\n",
       "  </thead>\n",
       "  <tbody>\n",
       "    <tr>\n",
       "      <th>721</th>\n",
       "      <td>39</td>\n",
       "      <td>Betrayal, Whisper of Grieving Widows</td>\n",
       "      <td>11</td>\n",
       "      <td>25.85</td>\n",
       "      <td>2.35</td>\n",
       "    </tr>\n",
       "    <tr>\n",
       "      <th>766</th>\n",
       "      <td>84</td>\n",
       "      <td>Arcane Gem</td>\n",
       "      <td>11</td>\n",
       "      <td>24.53</td>\n",
       "      <td>2.23</td>\n",
       "    </tr>\n",
       "    <tr>\n",
       "      <th>772</th>\n",
       "      <td>31</td>\n",
       "      <td>Trickster</td>\n",
       "      <td>9</td>\n",
       "      <td>18.63</td>\n",
       "      <td>2.07</td>\n",
       "    </tr>\n",
       "    <tr>\n",
       "      <th>761</th>\n",
       "      <td>175</td>\n",
       "      <td>Woeful Adamantite Claymore</td>\n",
       "      <td>9</td>\n",
       "      <td>11.16</td>\n",
       "      <td>1.24</td>\n",
       "    </tr>\n",
       "    <tr>\n",
       "      <th>765</th>\n",
       "      <td>13</td>\n",
       "      <td>Serenity</td>\n",
       "      <td>9</td>\n",
       "      <td>13.41</td>\n",
       "      <td>1.49</td>\n",
       "    </tr>\n",
       "    <tr>\n",
       "      <th>746</th>\n",
       "      <td>34</td>\n",
       "      <td>Retribution Axe</td>\n",
       "      <td>9</td>\n",
       "      <td>37.26</td>\n",
       "      <td>4.14</td>\n",
       "    </tr>\n",
       "  </tbody>\n",
       "</table>\n",
       "</div>"
      ],
      "text/plain": [
       "     Item ID                             Item Name  Quantity Sold  Revenue  \\\n",
       "721       39  Betrayal, Whisper of Grieving Widows             11    25.85   \n",
       "766       84                            Arcane Gem             11    24.53   \n",
       "772       31                             Trickster              9    18.63   \n",
       "761      175            Woeful Adamantite Claymore              9    11.16   \n",
       "765       13                              Serenity              9    13.41   \n",
       "746       34                       Retribution Axe              9    37.26   \n",
       "\n",
       "     Price  \n",
       "721   2.35  \n",
       "766   2.23  \n",
       "772   2.07  \n",
       "761   1.24  \n",
       "765   1.49  \n",
       "746   4.14  "
      ]
     },
     "execution_count": 17,
     "metadata": {},
     "output_type": "execute_result"
    }
   ],
   "source": [
    "most_pop_items = pd.DataFrame(purchase_df.groupby('Item ID')[\"Item ID\"].count())\n",
    "\n",
    "most_pop_items.sort_values(\"Item ID\", ascending = False, inplace=True)\n",
    "most_pop_items = most_pop_items.iloc[0:6, :]\n",
    "\n",
    "item_revenue = pd.DataFrame(purchase_df.groupby('Item ID')[\"Price\"].sum())\n",
    "item_revenue = item_revenue.rename(columns={'Price':'Revenue'})\n",
    "top_5_items = pd.merge(most_pop_items, item_revenue, left_index=True, right_index=True)\n",
    "top_5_items = top_5_items.rename(columns ={'Item ID':'Quantity Sold'})\n",
    "no_duplicates = purchase_df.drop_duplicates([\"Item ID\"], keep = 'last')\n",
    "top_5_merged = pd.merge(top_5_items, no_duplicates, left_index = True, right_on=\"Item ID\")\n",
    "top_5_merged = top_5_merged[[\"Item ID\", 'Item Name', 'Quantity Sold', 'Revenue', 'Price']]\n",
    "top_5_merged"
   ]
  },
  {
   "cell_type": "markdown",
   "metadata": {},
   "source": [
    "Most Profitable Items"
   ]
  },
  {
   "cell_type": "code",
   "execution_count": 51,
   "metadata": {},
   "outputs": [
    {
     "data": {
      "text/html": [
       "<div>\n",
       "<style>\n",
       "    .dataframe thead tr:only-child th {\n",
       "        text-align: right;\n",
       "    }\n",
       "\n",
       "    .dataframe thead th {\n",
       "        text-align: left;\n",
       "    }\n",
       "\n",
       "    .dataframe tbody tr th {\n",
       "        vertical-align: top;\n",
       "    }\n",
       "</style>\n",
       "<table border=\"1\" class=\"dataframe\">\n",
       "  <thead>\n",
       "    <tr style=\"text-align: right;\">\n",
       "      <th></th>\n",
       "      <th>Item Name</th>\n",
       "      <th>Purchase Count</th>\n",
       "      <th>Item Price</th>\n",
       "      <th>Total Purchase Value</th>\n",
       "    </tr>\n",
       "  </thead>\n",
       "  <tbody>\n",
       "    <tr>\n",
       "      <th>746</th>\n",
       "      <td>Retribution Axe</td>\n",
       "      <td>9</td>\n",
       "      <td>4.14</td>\n",
       "      <td>37.26</td>\n",
       "    </tr>\n",
       "    <tr>\n",
       "      <th>705</th>\n",
       "      <td>Spectral Diamond Doomblade</td>\n",
       "      <td>7</td>\n",
       "      <td>4.25</td>\n",
       "      <td>29.75</td>\n",
       "    </tr>\n",
       "    <tr>\n",
       "      <th>657</th>\n",
       "      <td>Orenmir</td>\n",
       "      <td>6</td>\n",
       "      <td>4.95</td>\n",
       "      <td>29.70</td>\n",
       "    </tr>\n",
       "    <tr>\n",
       "      <th>716</th>\n",
       "      <td>Singed Scalpel</td>\n",
       "      <td>6</td>\n",
       "      <td>4.87</td>\n",
       "      <td>29.22</td>\n",
       "    </tr>\n",
       "    <tr>\n",
       "      <th>779</th>\n",
       "      <td>Splitter, Foe Of Subtlety</td>\n",
       "      <td>8</td>\n",
       "      <td>3.61</td>\n",
       "      <td>28.88</td>\n",
       "    </tr>\n",
       "  </tbody>\n",
       "</table>\n",
       "</div>"
      ],
      "text/plain": [
       "                      Item Name  Purchase Count  Item Price  \\\n",
       "746             Retribution Axe               9        4.14   \n",
       "705  Spectral Diamond Doomblade               7        4.25   \n",
       "657                     Orenmir               6        4.95   \n",
       "716              Singed Scalpel               6        4.87   \n",
       "779   Splitter, Foe Of Subtlety               8        3.61   \n",
       "\n",
       "     Total Purchase Value  \n",
       "746                 37.26  \n",
       "705                 29.75  \n",
       "657                 29.70  \n",
       "716                 29.22  \n",
       "779                 28.88  "
      ]
     },
     "execution_count": 51,
     "metadata": {},
     "output_type": "execute_result"
    }
   ],
   "source": [
    "most_profit = pd.DataFrame(purchase_df.groupby(\"Item ID\")[\"Price\"].sum())\n",
    "most_profit.sort_values(\"Price\", ascending = False, inplace=True)\n",
    "most_profit = most_profit.iloc[0:5, :]\n",
    "profit_purch_count = pd.DataFrame(purchase_df.groupby('Item ID')['Item ID'].count())\n",
    "most_profit = pd.merge(most_profit, profit_purch_count, left_index=True, right_index=True, how = 'left')\n",
    "merge_most_profit = pd.merge(most_profit, no_duplicates, left_index=True, right_on =\"Item ID\", how='left')\n",
    "\n",
    "merge_most_profit = merge_most_profit[['Item Name', 'Item ID_x', 'Price_y','Price_x']]\n",
    "merge_most_profit.rename(columns = {'Item ID_x': 'Purchase Count', 'Price_y': 'Item Price', 'Price_x': 'Total Purchase Value'}, inplace = True)\n",
    "merge_most_profit"
   ]
  },
  {
   "cell_type": "markdown",
   "metadata": {},
   "source": [
    "Observable Trends:\n",
    "1. This game is primarily played by males, who represent over 80% of players\n",
    "2. A good age group to target is the 21-25 group. They by far have the highest quanity of purchases and \n",
    "   spend the most in total.\n",
    "3. Only 1 of the most profitable items are in the top 6 most popular items"
   ]
  },
  {
   "cell_type": "code",
   "execution_count": null,
   "metadata": {
    "collapsed": true
   },
   "outputs": [],
   "source": []
  },
  {
   "cell_type": "code",
   "execution_count": null,
   "metadata": {
    "collapsed": true
   },
   "outputs": [],
   "source": []
  }
 ],
 "metadata": {
  "kernelspec": {
   "display_name": "Python [conda env:PythonData]",
   "language": "python",
   "name": "conda-env-PythonData-py"
  }
 },
 "nbformat": 4,
 "nbformat_minor": 2
}
